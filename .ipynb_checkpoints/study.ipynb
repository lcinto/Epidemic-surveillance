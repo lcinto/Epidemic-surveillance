{
 "cells": [
  {
   "cell_type": "markdown",
   "id": "5c976fdc",
   "metadata": {},
   "source": [
    "相当于注释"
   ]
  },
  {
   "cell_type": "markdown",
   "id": "f909ad3d",
   "metadata": {},
   "source": [
    "#测试"
   ]
  },
  {
   "cell_type": "markdown",
   "id": "1c1cc40f",
   "metadata": {},
   "source": [
    "###标题 "
   ]
  },
  {
   "cell_type": "markdown",
   "id": "5d5749e4",
   "metadata": {},
   "source": [
    "#### title"
   ]
  },
  {
   "cell_type": "code",
   "execution_count": null,
   "id": "028c37c2",
   "metadata": {},
   "outputs": [],
   "source": [
    "from urllib import request\n",
    "\n",
    "url=\"http://www.baidu.com\"\n",
    "res=request.urlopen(url)"
   ]
  }
 ],
 "metadata": {
  "kernelspec": {
   "display_name": "Python 3 (ipykernel)",
   "language": "python",
   "name": "python3"
  },
  "language_info": {
   "codemirror_mode": {
    "name": "ipython",
    "version": 3
   },
   "file_extension": ".py",
   "mimetype": "text/x-python",
   "name": "python",
   "nbconvert_exporter": "python",
   "pygments_lexer": "ipython3",
   "version": "3.10.0"
  }
 },
 "nbformat": 4,
 "nbformat_minor": 5
}
